{
 "cells": [
  {
   "cell_type": "code",
   "execution_count": 21,
   "metadata": {},
   "outputs": [],
   "source": [
    "import simpy\n",
    "import random\n",
    "import numpy as np\n",
    "from scipy import stats"
   ]
  },
  {
   "cell_type": "code",
   "execution_count": 22,
   "metadata": {},
   "outputs": [],
   "source": [
    "class FiFoServers:\n",
    "    def __init__(self, env, mu, num_servers):\n",
    "        self.mu = mu\n",
    "        self.server = simpy.Resource(env, capacity=num_servers)\n",
    "\n",
    "class SJFServers:\n",
    "    def __init__(self, env, mu, num_servers):\n",
    "        self.mu = mu\n",
    "        self.server = simpy.PriorityResource(env, capacity=num_servers)\n",
    "\n",
    "def task(name, env, servers, processing_time, waiting_times, print_tasks):\n",
    "\n",
    "    # A task arrives at the server\n",
    "    start_time = env.now\n",
    "    if print_tasks:\n",
    "        print(f'Task {name} arriving at {start_time}')\n",
    "\n",
    "    # Request task to server\n",
    "    with servers.server.request() as req:\n",
    "\n",
    "        # Once there is availability at the server, initiate task\n",
    "        yield req\n",
    "        end_time = env.now\n",
    "        if print_tasks:\n",
    "            print(f'Server starts processing {name} at {end_time}')\n",
    "\n",
    "        yield env.timeout(processing_time)\n",
    "\n",
    "        if print_tasks:\n",
    "            print(f'Server done processing {name} at {env.now}')\n",
    "\n",
    "        waiting_times.append(end_time - start_time)\n",
    "\n",
    "\n",
    "def task_generator(env, servers, N, lambda_, waiting_times, print_tasks=False):\n",
    "\n",
    "    # Generate N tasks\n",
    "    for i in range(N):\n",
    "        \n",
    "        # Calculate time at server by Poisson process, not sure if necessary\n",
    "        processing_time = max(0, int(random.normalvariate(1 / servers.mu, 1)))\n",
    "\n",
    "        # Create task\n",
    "        env.process(task(i, env, servers, processing_time, waiting_times, print_tasks))\n",
    "\n",
    "        # Calculate time until next task by Poisson process, not sure if necessary\n",
    "        next_arrival = max(0, int(random.normalvariate(1 / lambda_, 1)))\n",
    "        yield env.timeout(next_arrival)\n"
   ]
  },
  {
   "cell_type": "code",
   "execution_count": 23,
   "metadata": {},
   "outputs": [
    {
     "name": "stdout",
     "output_type": "stream",
     "text": [
      "1 servers:\n",
      "Average Waiting Time: 0.11283206318842369\n",
      "Standard Deviation of Waiting Time: 0.4106798754549174\n",
      "Confidence Interval (95%): (0.10836088975198382, 0.11730323662486355)\n",
      "\n",
      "2 servers:\n",
      "Average Waiting Time: 0.4726494145765461\n",
      "Standard Deviation of Waiting Time: 0.9963025675462573\n",
      "Confidence Interval (95%): (0.46528400405207787, 0.4800148251010143)\n",
      "\n",
      "4 servers:\n",
      "Average Waiting Time: 3.93418\n",
      "Standard Deviation of Waiting Time: 4.480799898187823\n",
      "Confidence Interval (95%): (3.9064078886763984, 3.9619521113236016)\n",
      "\n"
     ]
    }
   ],
   "source": [
    "def run_simulation(num_servers, mu, lambda_, N, tmax, scheduler):\n",
    "    env = simpy.Environment()\n",
    "    if scheduler.lower() == 'fifo':\n",
    "        servers = FiFoServers(env, mu, num_servers)\n",
    "    elif scheduler.lower() == 'sjf':\n",
    "        servers = SJFServers(env, mu, num_servers)\n",
    "\n",
    "    waiting_times = []\n",
    "\n",
    "    env.process(task_generator(env, servers, N, lambda_ * num_servers, waiting_times))\n",
    "    env.run(tmax)\n",
    "\n",
    "    waiting_times_array = np.array(waiting_times)\n",
    "    average_waiting_time = np.mean(waiting_times_array)\n",
    "    std_dev_waiting_time = np.std(waiting_times_array)\n",
    "    \n",
    "    # Calculate confidence interval for the mean\n",
    "    confidence_level = 0.95\n",
    "    lamb = stats.t.ppf((1 + confidence_level) / 2, len(waiting_times_array) - 1)\n",
    "    n = len(waiting_times_array)\n",
    "\n",
    "    margin_of_error = lamb * (std_dev_waiting_time / np.sqrt(n))\n",
    "    confidence_interval = (average_waiting_time - margin_of_error, average_waiting_time + margin_of_error)\n",
    "\n",
    "    print(f\"{num_servers} servers:\")\n",
    "    print(f\"Average Waiting Time: {average_waiting_time}\")\n",
    "    print(f\"Standard Deviation of Waiting Time: {std_dev_waiting_time}\")\n",
    "    print(f\"Confidence Interval (95%): {confidence_interval}\\n\")\n",
    "\n",
    "\n",
    "mu = 0.2\n",
    "lambda_ = 0.15\n",
    "N = 100000\n",
    "tmax = 200000\n",
    "num_servers_list = [1, 2, 4]\n",
    "scheduler = 'fifo'\n",
    "\n",
    "for num_servers in num_servers_list:\n",
    "    run_simulation(num_servers, mu, lambda_, N, tmax, scheduler)"
   ]
  },
  {
   "cell_type": "code",
   "execution_count": 24,
   "metadata": {},
   "outputs": [
    {
     "name": "stdout",
     "output_type": "stream",
     "text": [
      "1 servers:\n",
      "Average Waiting Time: 0.1129320987654321\n",
      "Standard Deviation of Waiting Time: 0.41536022780980425\n",
      "Confidence Interval (95%): (0.10840920153698085, 0.11745499599388336)\n",
      "\n",
      "2 servers:\n",
      "Average Waiting Time: 0.5013494609221552\n",
      "Standard Deviation of Waiting Time: 1.041509580030081\n",
      "Confidence Interval (95%): (0.4936758944675226, 0.5090230273767877)\n",
      "\n",
      "4 servers:\n",
      "Average Waiting Time: 4.18806\n",
      "Standard Deviation of Waiting Time: 5.0252117802536445\n",
      "Confidence Interval (95%): (4.156913610034601, 4.219206389965399)\n",
      "\n"
     ]
    }
   ],
   "source": [
    "scheduler = 'sjf'\n",
    "\n",
    "for num_servers in num_servers_list:\n",
    "    run_simulation(num_servers, mu, lambda_, N, tmax, scheduler)"
   ]
  }
 ],
 "metadata": {
  "kernelspec": {
   "display_name": "Python 3",
   "language": "python",
   "name": "python3"
  },
  "language_info": {
   "codemirror_mode": {
    "name": "ipython",
    "version": 3
   },
   "file_extension": ".py",
   "mimetype": "text/x-python",
   "name": "python",
   "nbconvert_exporter": "python",
   "pygments_lexer": "ipython3",
   "version": "3.11.6"
  }
 },
 "nbformat": 4,
 "nbformat_minor": 2
}
