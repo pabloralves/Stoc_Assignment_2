{
 "cells": [
  {
   "cell_type": "code",
   "execution_count": 136,
   "metadata": {},
   "outputs": [],
   "source": [
    "import simpy\n",
    "import random"
   ]
  },
  {
   "cell_type": "code",
   "execution_count": 137,
   "metadata": {},
   "outputs": [
    {
     "name": "stdout",
     "output_type": "stream",
     "text": [
      "Task 0 arriving at 0\n",
      "Task 1 arriving at 0\n",
      "Server starts processing 0 at 0\n",
      "Task 2 arriving at 0\n",
      "Server starts processing 1 at 0\n",
      "Server done processing 0 at 0\n",
      "Task 3 arriving at 0\n",
      "Task 4 arriving at 0\n",
      "Server starts processing 2 at 0\n",
      "Task 5 arriving at 0\n",
      "Server done processing 2 at 0\n",
      "Task 6 arriving at 0\n",
      "Server starts processing 3 at 0\n",
      "Server done processing 3 at 0\n",
      "Server starts processing 4 at 0\n",
      "Server done processing 1 at 2\n",
      "Task 7 arriving at 2\n",
      "Server done processing 4 at 2\n",
      "Server starts processing 5 at 2\n",
      "Server starts processing 6 at 2\n",
      "Server done processing 6 at 3\n",
      "Server starts processing 7 at 3\n",
      "Task 8 arriving at 4\n",
      "Server done processing 5 at 4\n",
      "Server done processing 7 at 4\n",
      "Server starts processing 8 at 4\n",
      "Task 9 arriving at 5\n",
      "Server starts processing 9 at 5\n",
      "Server done processing 8 at 7\n",
      "Server done processing 9 at 8\n"
     ]
    }
   ],
   "source": [
    "class Servers:\n",
    "    def __init__(self, env, mu):\n",
    "        self.mu = mu\n",
    "        self.server = simpy.Resource(env, capacity=mu)\n",
    "\n",
    "def task(name, env, servers):\n",
    "\n",
    "    # A task arrives at the server\n",
    "    print(f'Task {name} arriving at {env.now}')\n",
    "\n",
    "    # Request task to server\n",
    "    with servers.server.request() as req:\n",
    "\n",
    "        # Once there is availability at the server, initiate task\n",
    "        yield req\n",
    "        print(f'Server starts processing {name} at {env.now}')\n",
    "\n",
    "        # Calculate time at server by Poisson process, not sure if necessary\n",
    "        processing_time = int(random.expovariate(1 / servers.mu))\n",
    "        yield env.timeout(processing_time)\n",
    "        print(f'Server done processing {name} at {env.now}')\n",
    "\n",
    "\n",
    "def task_generator(env, servers, N, lambda_):\n",
    "\n",
    "    # Generate N tasks\n",
    "    for i in range(N):\n",
    "\n",
    "        # Create task\n",
    "        env.process(task(i, env, servers))\n",
    "\n",
    "        # Calculate time until next task by Poisson process, not sure if necessary\n",
    "        next_arrival = int(random.expovariate(lambda_))\n",
    "        yield env.timeout(next_arrival)\n",
    "\n",
    "mu = 2\n",
    "lambda_ = 0.8\n",
    "N = 10\n",
    "tmax = 20\n",
    "\n",
    "env = simpy.Environment()\n",
    "servers = Servers(env, mu)\n",
    "car_gen = env.process(task_generator(env, servers, N, lambda_))\n",
    "env.run(tmax)"
   ]
  }
 ],
 "metadata": {
  "kernelspec": {
   "display_name": "Python 3",
   "language": "python",
   "name": "python3"
  },
  "language_info": {
   "codemirror_mode": {
    "name": "ipython",
    "version": 3
   },
   "file_extension": ".py",
   "mimetype": "text/x-python",
   "name": "python",
   "nbconvert_exporter": "python",
   "pygments_lexer": "ipython3",
   "version": "3.11.6"
  }
 },
 "nbformat": 4,
 "nbformat_minor": 2
}
