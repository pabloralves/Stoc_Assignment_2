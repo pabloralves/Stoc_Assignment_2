{
 "cells": [
  {
   "cell_type": "code",
   "execution_count": 412,
   "metadata": {},
   "outputs": [],
   "source": [
    "import simpy\n",
    "import random\n",
    "import numpy as np"
   ]
  },
  {
   "cell_type": "code",
   "execution_count": 413,
   "metadata": {},
   "outputs": [],
   "source": [
    "class Servers:\n",
    "    def __init__(self, env, mu, num_servers):\n",
    "        self.mu = mu\n",
    "        self.server = simpy.Resource(env, capacity=num_servers)\n",
    "\n",
    "def task(name, env, servers, waiting_times, print_tasks):\n",
    "\n",
    "    # A task arrives at the server\n",
    "    start_time = env.now\n",
    "    if print_tasks:\n",
    "        print(f'Task {name} arriving at {start_time}')\n",
    "\n",
    "    # Request task to server\n",
    "    with servers.server.request() as req:\n",
    "\n",
    "        # Once there is availability at the server, initiate task\n",
    "        yield req\n",
    "        end_time = env.now\n",
    "        if print_tasks:\n",
    "            print(f'Server starts processing {name} at {end_time}')\n",
    "\n",
    "        # Calculate time at server by Poisson process, not sure if necessary\n",
    "        processing_time = max(0, int(random.normalvariate(1 / servers.mu, 1)))\n",
    "        yield env.timeout(processing_time)\n",
    "\n",
    "        if print_tasks:\n",
    "            print(f'Server done processing {name} at {env.now}')\n",
    "\n",
    "        waiting_times.append(end_time - start_time)\n",
    "\n",
    "\n",
    "def task_generator(env, servers, N, lambda_, waiting_times, print_tasks=False):\n",
    "\n",
    "    # Generate N tasks\n",
    "    for i in range(N):\n",
    "\n",
    "        # Create task\n",
    "        env.process(task(i, env, servers, waiting_times, print_tasks))\n",
    "\n",
    "        # Calculate time until next task by Poisson process, not sure if necessary\n",
    "        next_arrival = max(0, int(random.normalvariate(1 / lambda_, 1)))\n",
    "        yield env.timeout(next_arrival)\n"
   ]
  },
  {
   "cell_type": "code",
   "execution_count": 414,
   "metadata": {},
   "outputs": [
    {
     "name": "stdout",
     "output_type": "stream",
     "text": [
      "1 servers:\n",
      "Average Waiting Time: 0.1132\n",
      "Standard Deviation of Waiting Time: 0.4211481449561425 \n",
      "\n",
      "2 servers:\n",
      "Average Waiting Time: 0.48316\n",
      "Standard Deviation of Waiting Time: 1.0161576720174876 \n",
      "\n",
      "4 servers:\n",
      "Average Waiting Time: 4.12448\n",
      "Standard Deviation of Waiting Time: 4.869259156134535 \n",
      "\n"
     ]
    }
   ],
   "source": [
    "num_servers = [1, 2, 4]\n",
    "mu = 0.2\n",
    "lambda_ = 0.15\n",
    "N = 100000\n",
    "tmax = 2000000\n",
    "\n",
    "for n in num_servers:\n",
    "    env = simpy.Environment()\n",
    "    servers = Servers(env, mu, n)\n",
    "    waiting_times = []\n",
    "\n",
    "    car_gen = env.process(task_generator(env, servers, N, lambda_*n, waiting_times))\n",
    "    env.run(tmax)\n",
    "\n",
    "    waiting_times_array = np.array(waiting_times)\n",
    "    average_waiting_time = np.mean(waiting_times_array)\n",
    "    std_dev_waiting_time = np.std(waiting_times_array)\n",
    "\n",
    "    print(f\"{n} servers:\")\n",
    "    print(f\"Average Waiting Time: {average_waiting_time}\")\n",
    "    print(f\"Standard Deviation of Waiting Time: {std_dev_waiting_time} \\n\")"
   ]
  }
 ],
 "metadata": {
  "kernelspec": {
   "display_name": "Python 3",
   "language": "python",
   "name": "python3"
  },
  "language_info": {
   "codemirror_mode": {
    "name": "ipython",
    "version": 3
   },
   "file_extension": ".py",
   "mimetype": "text/x-python",
   "name": "python",
   "nbconvert_exporter": "python",
   "pygments_lexer": "ipython3",
   "version": "3.11.6"
  }
 },
 "nbformat": 4,
 "nbformat_minor": 2
}
